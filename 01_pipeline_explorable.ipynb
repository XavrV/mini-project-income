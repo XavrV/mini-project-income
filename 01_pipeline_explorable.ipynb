{
 "cells": [
  {
   "cell_type": "markdown",
   "id": "b25d5cb0",
   "metadata": {},
   "source": [
    "# Mini Project Income - Pipeline Interactivo\n",
    "Este notebook te permite ejecutar paso a paso el flujo del proyecto, importando los módulos desde `src/`."
   ]
  },
  {
   "cell_type": "code",
   "execution_count": null,
   "id": "c15335fc",
   "metadata": {},
   "outputs": [],
   "source": [
    "import sys\n",
    "sys.path.append(\"../\")  # Asegura que Python encuentre los módulos en ../src\n",
    "\n",
    "from src.config import config\n",
    "from src import (\n",
    "    load_validate,\n",
    "    target_processing,\n",
    "    cleaning,\n",
    "    eda,\n",
    "    feature_engineering,\n",
    "    split,\n",
    "    pipeline,\n",
    "    experiment\n",
    ")\n"
   ]
  },
  {
   "cell_type": "markdown",
   "id": "2c216d5b",
   "metadata": {},
   "source": [
    "## 1. Carga y Validación Inicial"
   ]
  },
  {
   "cell_type": "code",
   "execution_count": null,
   "id": "4c672680",
   "metadata": {},
   "outputs": [],
   "source": [
    "df = load_validate.load_dataset(config[\"path\"])\n",
    "df = load_validate.validate_structure(df, config[\"expected_columns\"])\n",
    "load_validate.quick_explore(df)\n",
    "load_validate.check_nulls_duplicates(df)\n"
   ]
  },
  {
   "cell_type": "markdown",
   "id": "1ea09b65",
   "metadata": {},
   "source": [
    "## 2. Procesamiento del Target"
   ]
  },
  {
   "cell_type": "code",
   "execution_count": null,
   "id": "b0c7953c",
   "metadata": {},
   "outputs": [],
   "source": [
    "df = target_processing.clean_normalize_target(df, config[\"target\"])\n",
    "df = target_processing.encode_target(df, config[\"target\"], config[\"target_mapping\"])\n",
    "target_processing.plot_target_distribution(df, config[\"target\"])\n",
    "removed_rows = df[config[\"target\"]].isna().sum()\n",
    "target_processing.log_target_status(df, config[\"target\"], removed_rows)\n"
   ]
  },
  {
   "cell_type": "markdown",
   "id": "ed07ef0e",
   "metadata": {},
   "source": [
    "## 3. Limpieza General"
   ]
  },
  {
   "cell_type": "code",
   "execution_count": null,
   "id": "5e181b18",
   "metadata": {},
   "outputs": [],
   "source": [
    "df, _ = cleaning.drop_duplicates(df)\n",
    "cleaning.analyze_missing_values(df, config[\"target\"])\n",
    "df = cleaning.fix_column_types_and_formats(df)\n",
    "cleaning.detect_gross_outliers(df, config[\"num_features\"])\n"
   ]
  },
  {
   "cell_type": "markdown",
   "id": "b5b7f9e7",
   "metadata": {},
   "source": [
    "## 4. Análisis Exploratorio de Datos (EDA)"
   ]
  },
  {
   "cell_type": "code",
   "execution_count": null,
   "id": "d8e75da5",
   "metadata": {},
   "outputs": [],
   "source": [
    "eda.describe_numerical(df, config[\"num_features\"])\n",
    "eda.describe_categorical(df, config[\"cat_features\"])\n",
    "eda.plot_numerical_distributions(df, config[\"num_features\"])\n",
    "eda.plot_categorical_distributions(df, config[\"cat_features\"], min_freq=10)\n",
    "eda.plot_feature_target_relationship(df, config[\"features\"], config[\"target\"])\n",
    "corr = eda.correlation_analysis(df, config[\"num_features\"])\n",
    "eda.analyze_feature_redundancy(df, config[\"num_features\"])\n"
   ]
  },
  {
   "cell_type": "markdown",
   "id": "e98d56c0",
   "metadata": {},
   "source": [
    "## 5. Ingeniería y Selección de Features"
   ]
  },
  {
   "cell_type": "code",
   "execution_count": null,
   "id": "e219a891",
   "metadata": {},
   "outputs": [],
   "source": [
    "features_dict = feature_engineering.prepare_final_features(df, config[\"drop_features\"], config[\"target\"])\n",
    "feature_engineering.collect_pipeline_issues(df, features_dict)\n",
    "feature_engineering.save_feature_config(features_dict, \"features_config.json\")\n"
   ]
  },
  {
   "cell_type": "markdown",
   "id": "81be4639",
   "metadata": {},
   "source": [
    "## 6. División de Datos"
   ]
  },
  {
   "cell_type": "code",
   "execution_count": null,
   "id": "e1eb7136",
   "metadata": {},
   "outputs": [],
   "source": [
    "X, y = split.prepare_X_y(df, features_dict, config[\"target\"])\n",
    "splits = split.stratified_train_test_split(X, y)\n",
    "split.check_split_quality(splits[\"y_train\"], splits[\"y_test\"])\n"
   ]
  },
  {
   "cell_type": "markdown",
   "id": "e5d935f2",
   "metadata": {},
   "source": [
    "## 7. Pipeline + Experimento con MLflow"
   ]
  },
  {
   "cell_type": "code",
   "execution_count": null,
   "id": "cfee9373",
   "metadata": {},
   "outputs": [],
   "source": [
    "pipe = pipeline.make_pipeline_for_experiment(config, features_dict)\n",
    "\n",
    "param_grid = {\n",
    "    \"model__C\": [0.1, 1, 10],\n",
    "    \"preprocessing__num__outlier__strategy\": [\"clip\", \"none\"]\n",
    "}\n",
    "\n",
    "experiment.setup_mlflow_experiment(\n",
    "    tracking_uri=config[\"mlflow\"][\"tracking_uri\"],\n",
    "    experiment_name=config[\"mlflow\"][\"experiment_name\"]\n",
    ")\n",
    "\n",
    "experiment.run_gridsearch_experiment(\n",
    "    pipe, param_grid,\n",
    "    splits[\"X_train\"], splits[\"y_train\"],\n",
    "    splits[\"X_test\"], splits[\"y_test\"],\n",
    "    scoring=\"accuracy\",\n",
    "    out_dir=\"results_out\",\n",
    "    tags={\"proyecto\": \"mini_project_income\", \"autor\": \"Javiercito\"}\n",
    ")\n"
   ]
  }
 ],
 "metadata": {},
 "nbformat": 4,
 "nbformat_minor": 5
}
